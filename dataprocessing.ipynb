{
 "cells": [
  {
   "cell_type": "code",
   "execution_count": 2,
   "metadata": {},
   "outputs": [],
   "source": [
    "import json\n",
    "\n",
    "def convert_sample_format(input_file, output_file):\n",
    "    with open(input_file, 'r', encoding='utf-8') as infile, open(output_file, 'w', encoding='utf-8') as outfile:\n",
    "        for line in infile:\n",
    "            # 解析 JSON 数据\n",
    "            data = json.loads(line.strip())\n",
    "\n",
    "            # 提取信息\n",
    "            tokens = data[\"token\"]\n",
    "            h = data[\"h\"]\n",
    "            t = data[\"t\"]\n",
    "            relation = data[\"relation\"]\n",
    "\n",
    "            # 生成文本\n",
    "            text = ''.join(tokens)\n",
    "\n",
    "            # 创建目标格式\n",
    "            converted_data = {\n",
    "                \"h\": {\n",
    "                    \"name\": h[\"name\"],\n",
    "                    \"pos\": h[\"pos\"]\n",
    "                },\n",
    "                \"t\": {\n",
    "                    \"name\": t[\"name\"],\n",
    "                    \"pos\": t[\"pos\"]\n",
    "                },\n",
    "                \"relation\": relation,  # 根据需要修改\n",
    "                \"text\": text\n",
    "            }\n",
    "\n",
    "            # 写入新文件\n",
    "            outfile.write(json.dumps(converted_data, ensure_ascii=False) + '\\n')\n"
   ]
  },
  {
   "cell_type": "code",
   "execution_count": 3,
   "metadata": {},
   "outputs": [],
   "source": [
    "\n",
    "# 使用示例\n",
    "input_file = '/root/HistoryRE/dataset/historyRE/32_42_sampled_train.txt'\n",
    "output_file = '/root/relation-extraction/datasets/historyRE_32_42_sampled_train.jsonl'\n",
    "convert_sample_format(input_file, output_file)\n"
   ]
  },
  {
   "cell_type": "code",
   "execution_count": 4,
   "metadata": {},
   "outputs": [],
   "source": [
    "# 使用示例\n",
    "input_file = '/root/HistoryRE/dataset/historyRE/32_42_sampled_val.txt'\n",
    "output_file = '/root/relation-extraction/datasets/historyRE_32_42_sampled_val.jsonl'\n",
    "convert_sample_format(input_file, output_file)"
   ]
  },
  {
   "cell_type": "code",
   "execution_count": 4,
   "metadata": {},
   "outputs": [],
   "source": [
    "# 使用示例\n",
    "input_file = '/root/HistoryRE/dataset/historyRE/test.txt'\n",
    "output_file = '/root/relation-extraction/datasets/historyRE_test.jsonl'\n",
    "convert_sample_format(input_file, output_file)"
   ]
  },
  {
   "cell_type": "code",
   "execution_count": null,
   "metadata": {},
   "outputs": [],
   "source": []
  }
 ],
 "metadata": {
  "kernelspec": {
   "display_name": "knowprompt",
   "language": "python",
   "name": "python3"
  },
  "language_info": {
   "codemirror_mode": {
    "name": "ipython",
    "version": 3
   },
   "file_extension": ".py",
   "mimetype": "text/x-python",
   "name": "python",
   "nbconvert_exporter": "python",
   "pygments_lexer": "ipython3",
   "version": "3.8.19"
  }
 },
 "nbformat": 4,
 "nbformat_minor": 2
}
